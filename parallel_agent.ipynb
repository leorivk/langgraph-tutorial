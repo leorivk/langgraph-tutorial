{
 "cells": [
  {
   "cell_type": "markdown",
   "metadata": {},
   "source": [
    "- 아주 specific한 에이전트를 개발하는 경우 유리\n",
    "- 답변 생성 시 다양한 정보가 필요하다면 병렬 처리를 통해 시간 절약 가능"
   ]
  },
  {
   "cell_type": "code",
   "execution_count": 1,
   "metadata": {},
   "outputs": [
    {
     "data": {
      "text/plain": [
       "True"
      ]
     },
     "execution_count": 1,
     "metadata": {},
     "output_type": "execute_result"
    }
   ],
   "source": [
    "from dotenv import load_dotenv\n",
    "\n",
    "load_dotenv()"
   ]
  },
  {
   "cell_type": "code",
   "execution_count": 2,
   "metadata": {},
   "outputs": [],
   "source": [
    "from typing_extensions import TypedDict\n",
    "from langgraph.graph import StateGraph\n",
    "\n",
    "class AgentState(TypedDict):\n",
    "    query: str  # 사용자 질문\n",
    "    answer: str  # 세율\n",
    "    tax_base_equation: str  # 과세표준 계산 수식\n",
    "    tax_deduction: str  # 공제액\n",
    "    market_ratio: str  # 공정 시장 가액 비율\n",
    "    tax_base: str  # 과세표준\n",
    "\n",
    "graph_builder = StateGraph(AgentState)"
   ]
  },
  {
   "cell_type": "code",
   "execution_count": 3,
   "metadata": {},
   "outputs": [],
   "source": [
    "from langchain_chroma import Chroma\n",
    "from langchain_openai import OpenAIEmbeddings\n",
    "\n",
    "embedding_function = OpenAIEmbeddings(model=\"text-embedding-3-large\")\n",
    "\n",
    "vector_store = Chroma(\n",
    "    embedding_function=embedding_function,\n",
    "    collection_name = 'real_estate_tax_collection',\n",
    "    persist_directory = './real_estate_tax_collection'\n",
    ")\n",
    "\n",
    "retriever = vector_store.as_retriever(search_kwargs={\"k\": 3})\n"
   ]
  },
  {
   "cell_type": "code",
   "execution_count": 4,
   "metadata": {},
   "outputs": [],
   "source": [
    "query = \"5억짜리 집 1채, 10억짜리 집 1채, 20억짜리 집 1채를 가지고 있을 때, 세금을 얼마나 내나요?\""
   ]
  },
  {
   "cell_type": "code",
   "execution_count": 5,
   "metadata": {},
   "outputs": [
    {
     "name": "stderr",
     "output_type": "stream",
     "text": [
      "/opt/homebrew/lib/python3.11/site-packages/langsmith/client.py:253: LangSmithMissingAPIKeyWarning: API key must be provided when using hosted LangSmith API\n",
      "  warnings.warn(\n"
     ]
    }
   ],
   "source": [
    "from langchain_openai import ChatOpenAI\n",
    "from langchain import hub\n",
    "from langchain_core.output_parsers import StrOutputParser\n",
    "from langchain_core.runnables import RunnablePassthrough\n",
    "from langchain_core.prompts import ChatPromptTemplate\n",
    "\n",
    "llm = ChatOpenAI(model='gpt-4o')\n",
    "small_llm = ChatOpenAI(model='gpt-4o-mini')\n",
    "\n",
    "rag_prompt = hub.pull(\"rlm/rag-prompt\")\n",
    "\n"
   ]
  },
  {
   "cell_type": "code",
   "execution_count": 6,
   "metadata": {},
   "outputs": [],
   "source": [
    "tax_base_retrieval_chain = (\n",
    "    {\"context\": retriever, \"question\": RunnablePassthrough()} | rag_prompt | llm | StrOutputParser()\n",
    ")\n",
    "\n",
    "tax_base_equation_prompt = ChatPromptTemplate.from_messages([\n",
    "    (\"system\", \"사용자의 질문에서 과세표준을 계산하는 방법을 수식으로 나타내주세요. 부연 설명 없이 수식만 나타내 주세요.\"),\n",
    "    (\"user\", \"{tax_base_equation_information}\")\n",
    "])\n",
    "\n",
    "tax_base_equation_chain = (\n",
    "    {\"tax_base_equation_information\": RunnablePassthrough()} | tax_base_equation_prompt | llm | StrOutputParser()\n",
    ")\n",
    "\n",
    "tax_base_chain = {\"tax_base_equation_information\": tax_base_retrieval_chain} | tax_base_equation_chain\n",
    "\n",
    "def get_tax_base_equation(state: AgentState) -> AgentState:\n",
    "    \"\"\"\n",
    "    종합부동산세 과세표준 계산 수식\n",
    "    `node`로 활용되기 때문에 `state`를 인자로 받지만, \n",
    "    고정된 기능을 수행하기 때문에 `state` 활용 X\n",
    "\n",
    "    Args:\n",
    "        state (AgentState): 현재 에이전트의 상태를 나타내는 객체\n",
    "\n",
    "    Returns:\n",
    "        AgentState: 'tax_base_equation' 키를 포함하는 새로운 `state` 반환\n",
    "    \"\"\"\n",
    "    # 과세표준을 계산하는 방법을 묻는 질문 정의\n",
    "    tax_base_equation_question = '주택에 대한 종합부동산세 계산시 과세표준을 계산하는 방법을 수식으로 표현해서 알려주세요'\n",
    "    \n",
    "    # tax_base_chain을 사용하여 질문 실행 및 결과 추출\n",
    "    tax_base_equation = tax_base_chain.invoke(tax_base_equation_question)\n",
    "    \n",
    "    # state에서 'tax_base_equation' 키에 대한 값 반환\n",
    "    return {'tax_base_equation': tax_base_equation}"
   ]
  },
  {
   "cell_type": "code",
   "execution_count": 7,
   "metadata": {},
   "outputs": [
    {
     "data": {
      "text/plain": [
       "{'tax_base_equation': '과세표준 = (∑(주택의 공시가격) - 공제금액) × 적용비율'}"
      ]
     },
     "execution_count": 7,
     "metadata": {},
     "output_type": "execute_result"
    }
   ],
   "source": [
    "get_tax_base_equation({})"
   ]
  },
  {
   "cell_type": "markdown",
   "metadata": {},
   "source": [
    "- LLM은 번역, 요약, 분석에 능하지만 이들을 한 번에 수행하는 것은 잘 하지 못함"
   ]
  },
  {
   "cell_type": "code",
   "execution_count": 8,
   "metadata": {},
   "outputs": [],
   "source": [
    "tax_deduction_chain = (\n",
    "    {\"context\": retriever, \"question\": RunnablePassthrough()} | rag_prompt | llm | StrOutputParser()\n",
    ")\n",
    "\n",
    "def get_tax_deduction(state: AgentState) -> AgentState:\n",
    "    \"\"\"\n",
    "    종합부동산세 공제금액에 관한 정보 추출\n",
    "    `node`로 활용되기 때문에 `state`를 인자로 받지만, \n",
    "    고정된 기능을 수행하기 때문에 `state` 활용 X\n",
    "\n",
    "    Args:\n",
    "        state (AgentState): 현재 에이전트의 state를 나타내는 객체\n",
    "\n",
    "    Returns:\n",
    "        AgentState: 'tax_deduction' 키를 포함하는 새로운 state 반환\n",
    "    \"\"\"\n",
    "    # 공제금액을 묻는 질문 정의\n",
    "    tax_deduction_question = '주택에 대한 종합부동산세 계산시 공제금액을 알려주세요'\n",
    "    \n",
    "    # tax_deduction_chain을 사용하여 질문 실행 및 결과 추출\n",
    "    tax_deduction = tax_deduction_chain.invoke(tax_deduction_question)\n",
    "    \n",
    "    # state에서 'tax_deduction' 키에 대한 값 반환\n",
    "    return {'tax_deduction': tax_deduction}"
   ]
  },
  {
   "cell_type": "code",
   "execution_count": 9,
   "metadata": {},
   "outputs": [
    {
     "data": {
      "text/plain": [
       "{'tax_deduction': '주택에 대한 종합부동산세 계산 시 1세대 1주택자의 경우, 12억 원이 공제됩니다.'}"
      ]
     },
     "execution_count": 9,
     "metadata": {},
     "output_type": "execute_result"
    }
   ],
   "source": [
    "get_tax_deduction({})"
   ]
  },
  {
   "cell_type": "code",
   "execution_count": 10,
   "metadata": {},
   "outputs": [],
   "source": [
    "from langchain_community.tools import TavilySearchResults\n",
    "from datetime import date\n",
    "\n",
    "tavily_search_tool = TavilySearchResults(\n",
    "    max_results=5,\n",
    "    search_depth=\"advanced\",\n",
    "    include_answer=True,\n",
    "    include_raw_content=True,\n",
    "    include_images=True,\n",
    ")\n",
    "\n",
    "tax_market_ratio_prompt = ChatPromptTemplate.from_messages([\n",
    "    (\"system\", f\"아래 정보를 기반으로 사용자의 질문에 답변해주세요.\\n\\nContext:\\n{{context}}\"),\n",
    "    (\"human\", \"{query}\")\n",
    "])\n",
    "\n",
    "def get_market_ratio(state: AgentState) -> AgentState:\n",
    "    \"\"\"\n",
    "    web 검색을 통해 주택 공시가격에 대한 공정시장가액비율 추출\n",
    "    `node`로 활용되기 때문에 `state`를 인자로 받지만, \n",
    "    고정된 기능을 수행하기 때문에 `state` 활용 X\n",
    "    \n",
    "    Args:\n",
    "        state (AgentState): 현재 에이전트의 state를 나타내는 객체\n",
    "\n",
    "    Returns:\n",
    "        AgentState: 'market_ratio' 키를 포함하는 새로운 state 반환\n",
    "    \"\"\"\n",
    "    # 오늘 날짜에 해당하는 공정시장가액비율을 묻는 쿼리 정의\n",
    "    query = f'오늘 날짜:({date.today()})에 해당하는 주택 공시가격 공정시장가액비율은 몇%인가요?'\n",
    "    \n",
    "    # tavily_search_tool을 사용하여 쿼리 실행 및 컨텍스트 추출\n",
    "    context = tavily_search_tool.invoke(query)\n",
    "    \n",
    "    # tax_market_ratio_chain 구성 및 쿼리와 컨텍스트 처리\n",
    "    tax_market_ratio_chain = (\n",
    "        tax_market_ratio_prompt\n",
    "        | llm\n",
    "        | StrOutputParser()\n",
    "    )\n",
    "    \n",
    "    # tax_market_ratio_chain 사용하여 시장 비율 계산\n",
    "    market_ratio = tax_market_ratio_chain.invoke({'context': context, 'query': query})\n",
    "    \n",
    "    # state에서 'market_ratio' 키에 대한 값 반환\n",
    "    return {'market_ratio': market_ratio}\n"
   ]
  },
  {
   "cell_type": "code",
   "execution_count": 11,
   "metadata": {},
   "outputs": [
    {
     "data": {
      "text/plain": [
       "{'market_ratio': '죄송하지만 2025년 1월 31일 기준으로 주택 공시가격 공정시장가액비율에 대한 정보는 제공되어 있지 않습니다. 최신 정보를 얻기 위해 공식 정부 발표나 관련 기관의 공식 웹사이트를 확인하시기 바랍니다.'}"
      ]
     },
     "execution_count": 11,
     "metadata": {},
     "output_type": "execute_result"
    }
   ],
   "source": [
    "get_market_ratio({})"
   ]
  },
  {
   "cell_type": "code",
   "execution_count": 12,
   "metadata": {},
   "outputs": [],
   "source": [
    "from langchain_core.prompts import PromptTemplate\n",
    "\n",
    "tax_base_calculation_prompt = PromptTemplate.from_template(\"\"\"\n",
    "주어진 내용을 기반으로 과세 표준을 계산해주세요.\n",
    "과세 표준 계산 공식: {tax_base_equation}\n",
    "공제액: {tax_deduction}\n",
    "공정시장가액비율: {market_ratio}\n",
    "사용자 주택 공시 가격 정: {query}\n",
    "\"\"\")\n",
    "\n",
    "def calculate_tax_base(state: AgentState):\n",
    "    \"\"\"\n",
    "    주어진 state에서 과세표준 계산\n",
    "\n",
    "    Args:\n",
    "        state (AgentState): 현재 에이전트의 state를 나타내는 객체\n",
    "\n",
    "    Returns:\n",
    "        AgentState: 'tax_base' 키를 포함하는 새로운 state 반환\n",
    "    \"\"\"\n",
    "    # state에서 필요한 정보 추출\n",
    "    tax_base_equation = state['tax_base_equation']\n",
    "    tax_deduction = state['tax_deduction']\n",
    "    market_ratio = state['market_ratio']\n",
    "    query = state['query']\n",
    "    \n",
    "    # tax_base_calculation_chain 구성 및 과세표준 계산\n",
    "    tax_base_calculation_chain = (\n",
    "        tax_base_calculation_prompt\n",
    "        | llm\n",
    "        | StrOutputParser()\n",
    "    )\n",
    "    \n",
    "    # tax_base_calculation_chain 사용하여 과세표준 계산\n",
    "    tax_base = tax_base_calculation_chain.invoke({\n",
    "        'tax_base_equation': tax_base_equation,\n",
    "        'tax_deduction': tax_deduction,\n",
    "        'market_ratio': market_ratio,\n",
    "        'query': query\n",
    "    })\n",
    "\n",
    "    # state에서 'tax_base' 키에 대한 값 반환\n",
    "    return {'tax_base': tax_base}"
   ]
  },
  {
   "cell_type": "code",
   "execution_count": 13,
   "metadata": {},
   "outputs": [],
   "source": [
    "tax_rate_calculation_prompt = ChatPromptTemplate.from_messages([\n",
    "    ('system', '''당신은 종합부동산세 계산 전문가입니다. 아래 문서를 참고해서 사용자의 질문에 대한 종합부동산세를 계산해주세요\n",
    "\n",
    "종합부동산세 세율:{context}'''),\n",
    "    ('human', '''과세표준과 사용자가 소지한 주택의 수가 아래와 같을 때 종합부동산세를 계산해주세요\n",
    "\n",
    "과세표준: {tax_base}\n",
    "주택 수:{query}''')\n",
    "])\n",
    "\n",
    "def calculate_tax_rate(state: AgentState):\n",
    "    \"\"\"\n",
    "    주어진 state에서 세율 계산 함수입니다.\n",
    "\n",
    "    Args:\n",
    "        state (AgentState): 현재 에이전트의 state를 나타내는 객체\n",
    "\n",
    "    Returns:\n",
    "        dict: 'answer' 키를 포함하는 새로운 state를 반환\n",
    "    \"\"\"\n",
    "    # state에서 필요한 정보를 추출\n",
    "    query = state['query']\n",
    "    tax_base = state['tax_base']\n",
    "    \n",
    "    # retriever를 사용하여 쿼리를 실행하고 컨텍스트 추출\n",
    "    context = retriever.invoke(query)\n",
    "    \n",
    "    # tax_rate_chain을 구성하여 세율 계산\n",
    "    tax_rate_chain = (\n",
    "        tax_rate_calculation_prompt\n",
    "        | llm\n",
    "        | StrOutputParser()\n",
    "    )\n",
    "    \n",
    "    # tax_rate_chain을 사용하여 세율 계산\n",
    "    tax_rate = tax_rate_chain.invoke({\n",
    "        'context': context, \n",
    "        'tax_base': tax_base, \n",
    "        'query': query\n",
    "    })\n",
    "\n",
    "    # state에서 'answer' 키에 대한 값을 반환\n",
    "    return {'answer': tax_rate}"
   ]
  },
  {
   "cell_type": "code",
   "execution_count": 14,
   "metadata": {},
   "outputs": [
    {
     "data": {
      "text/plain": [
       "<langgraph.graph.state.StateGraph at 0x107bfff10>"
      ]
     },
     "execution_count": 14,
     "metadata": {},
     "output_type": "execute_result"
    }
   ],
   "source": [
    "graph_builder.add_node('get_tax_base_equation', get_tax_base_equation)\n",
    "graph_builder.add_node('get_tax_deduction', get_tax_deduction)\n",
    "graph_builder.add_node('get_market_ratio', get_market_ratio)\n",
    "graph_builder.add_node('calculate_tax_base', calculate_tax_base)\n",
    "graph_builder.add_node('calculate_tax_rate', calculate_tax_rate)"
   ]
  },
  {
   "cell_type": "code",
   "execution_count": 15,
   "metadata": {},
   "outputs": [
    {
     "data": {
      "text/plain": [
       "<langgraph.graph.state.StateGraph at 0x107bfff10>"
      ]
     },
     "execution_count": 15,
     "metadata": {},
     "output_type": "execute_result"
    }
   ],
   "source": [
    "from langgraph.graph import START, END\n",
    "\n",
    "graph_builder.add_edge(START, 'get_tax_base_equation')\n",
    "graph_builder.add_edge(START, 'get_tax_deduction')\n",
    "graph_builder.add_edge(START, 'get_market_ratio')\n",
    "graph_builder.add_edge('get_tax_base_equation', 'calculate_tax_base')\n",
    "graph_builder.add_edge('get_tax_deduction', 'calculate_tax_base')\n",
    "graph_builder.add_edge('get_market_ratio', 'calculate_tax_base')\n",
    "graph_builder.add_edge('calculate_tax_base', 'calculate_tax_rate')\n",
    "graph_builder.add_edge('calculate_tax_rate', END)"
   ]
  },
  {
   "cell_type": "code",
   "execution_count": 16,
   "metadata": {},
   "outputs": [],
   "source": [
    "graph = graph_builder.compile()"
   ]
  },
  {
   "cell_type": "code",
   "execution_count": 17,
   "metadata": {},
   "outputs": [
    {
     "data": {
      "image/png": "[encoded data removed]",
      "text/plain": [
       "<IPython.core.display.Image object>"
      ]
     },
     "metadata": {},
     "output_type": "display_data"
    }
   ],
   "source": [
    "from IPython.display import Image, display\n",
    "\n",
    "display(Image(graph.get_graph().draw_mermaid_png()))"
   ]
  },
  {
   "cell_type": "code",
   "execution_count": 18,
   "metadata": {},
   "outputs": [
    {
     "data": {
      "text/plain": [
       "{'query': '5억짜리 집 1채, 10억짜리 집 1채, 20억짜리 집 1채를 가지고 있을 때, 세금을 얼마나 내나요?',\n",
       " 'answer': '귀하께서는 3채의 주택을 소유하고 있으므로 \"납세의무자가 3주택 이상을 소유한 경우\"에 해당합니다. 이 경우, 주어진 과세표준 21억 원에 적용될 종합부동산세율을 적용하여 세액을 계산할 수 있습니다.\\n\\n\"납세의무자가 3주택 이상을 소유한 경우\"의 세율은 다음과 같습니다:\\n- 3억 원 이하: 1.2%\\n- 3억 초과 6억 원 이하: 1.5%\\n- 6억 초과 12억 원 이하: 1.8%\\n- 12억 초과 50억 원 이하: 2.0%\\n\\n주어진 총 과세표준 21억 원의 경우, 각 구간에 따라 세금을 계산하면 다음과 같습니다:\\n\\n1. 3억 원까지: 3억 원 * 1.2% = 0.036억 원\\n2. 3억 초과 6억 원까지: 3억 원 * 1.5% = 0.045억 원\\n3. 6억 초과 12억 원까지: 6억 원 * 1.8% = 0.108억 원\\n4. 12억 초과 21억 원까지: 9억 원 * 2.0% = 0.18억 원\\n\\n각 구간의 세금을 합산하여 총 종합부동산세를 계산하면:\\n0.036억 원 + 0.045억 원 + 0.108억 원 + 0.18억 원 = 0.369억 원\\n\\n따라서 귀하께서 납부해야 할 종합부동산세는 약 3,690만 원입니다.',\n",
       " 'tax_base_equation': '과세표준 = 공시가격 - 공제금액',\n",
       " 'tax_deduction': '주택에 대한 종합부동산세 계산 시, 1세대 1주택자는 과세표준에서 12억 원을 공제받을 수 있습니다.',\n",
       " 'market_ratio': '2025년 주택의 공정시장가액비율은 지방세법 시행령에 의해 주택은 60%로 정해져 있습니다.',\n",
       " 'tax_base': '주어진 정보에 따라, 여러 주택을 소유하고 계시기 때문에 귀하는 1세대 1주택자로 간주되지 않습니다. 따라서 공제금액을 적용할 수 없으며 각 주택의 과세 표준을 따로 계산한 후 합산해야 합니다. 공정시장가액비율이 60%로 정해져 있으므로, 각 주택의 공시가격에 이 비율을 적용하여 과세표준을 계산하겠습니다.\\n\\n1. 5억짜리 집:\\n   - 공정시장가액 = 5억 원 * 60% = 3억 원\\n\\n2. 10억짜리 집:\\n   - 공정시장가액 = 10억 원 * 60% = 6억 원\\n\\n3. 20억짜리 집:\\n   - 공정시장가액 = 20억 원 * 60% = 12억 원\\n\\n각 집의 공정시장가액을 모두 더하여 총 과세 표준을 계산합니다.\\n\\n총 과세표준 = 3억 원 + 6억 원 + 12억 원 = 21억 원\\n\\n따라서, 귀하의 종합부동산세 과세 표준은 21억 원입니다. 이 값은 종합부동산세에 대한 다른 세율이나 공제 항목을 적용하지 않은 기본 과세 표준입니다. 정확한 세액을 계산하려면 이후 단계에서 종부세율을 적용해야 합니다.'}"
      ]
     },
     "execution_count": 18,
     "metadata": {},
     "output_type": "execute_result"
    }
   ],
   "source": [
    "initial_state = {'query': query}\n",
    "graph.invoke(initial_state)"
   ]
  }
 ],
 "metadata": {
  "kernelspec": {
   "display_name": "Python 3",
   "language": "python",
   "name": "python3"
  },
  "language_info": {
   "codemirror_mode": {
    "name": "ipython",
    "version": 3
   },
   "file_extension": ".py",
   "mimetype": "text/x-python",
   "name": "python",
   "nbconvert_exporter": "python",
   "pygments_lexer": "ipython3",
   "version": "3.11.11"
  }
 },
 "nbformat": 4,
 "nbformat_minor": 2
}
